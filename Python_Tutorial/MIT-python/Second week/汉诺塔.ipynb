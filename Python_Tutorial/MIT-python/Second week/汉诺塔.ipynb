{
 "cells": [
  {
   "cell_type": "code",
   "execution_count": 3,
   "metadata": {},
   "outputs": [
    {
     "name": "stdout",
     "output_type": "stream",
     "text": [
      "move from p1to p3\n",
      "move from p1to p2\n",
      "move from p3to p2\n",
      "move from p1to p3\n",
      "move from p2to p1\n",
      "move from p2to p3\n",
      "move from p1to p3\n",
      "move from p1to p2\n",
      "move from p3to p2\n",
      "move from p3to p1\n",
      "move from p2to p1\n",
      "move from p3to p2\n",
      "move from p1to p3\n",
      "move from p1to p2\n",
      "move from p3to p2\n",
      "None\n"
     ]
    }
   ],
   "source": [
    "def printmove(fr, to):\n",
    "    print(\"move from \" + str(fr) + \"to \" + str(to) )\n",
    "def Towers(n, fr, to, spare):\n",
    "    if n==1:\n",
    "        printmove(fr, to)\n",
    "    else:\n",
    "        Towers(n-1, fr, spare, to)\n",
    "        Towers(1, fr, to, spare)\n",
    "        Towers(n-1, spare, to, fr)\n",
    "print(Towers(4,'p1','p2','p3'))"
   ]
  }
 ],
 "metadata": {
  "kernelspec": {
   "display_name": "Python 3",
   "language": "python",
   "name": "python3"
  },
  "language_info": {
   "codemirror_mode": {
    "name": "ipython",
    "version": 3
   },
   "file_extension": ".py",
   "mimetype": "text/x-python",
   "name": "python",
   "nbconvert_exporter": "python",
   "pygments_lexer": "ipython3",
   "version": "3.6.2"
  }
 },
 "nbformat": 4,
 "nbformat_minor": 2
}
