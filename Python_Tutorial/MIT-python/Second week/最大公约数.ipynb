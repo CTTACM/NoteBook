{
 "cells": [
  {
   "cell_type": "markdown",
   "metadata": {},
   "source": [
    "# 最大公约数"
   ]
  },
  {
   "cell_type": "markdown",
   "metadata": {},
   "source": [
    "### 迭代法\n",
    "一个简单的想法是，从求最大公约数的两个数中较小的那个开始，作为一个test值，除以两个输入值，依次减小直到两个值都能被整除，或者最大公约数为1."
   ]
  },
  {
   "cell_type": "code",
   "execution_count": 2,
   "metadata": {},
   "outputs": [
    {
     "name": "stdout",
     "output_type": "stream",
     "text": [
      "4\n"
     ]
    }
   ],
   "source": [
    "# 自己写的\n",
    "def gcdIter(a, b):\n",
    "    \"\"\"\n",
    "    input: a,b\n",
    "    output:gcd(a,b)\n",
    "    \"\"\"\n",
    "    if a>b:\n",
    "        minn = b \n",
    "        maxn = a\n",
    "    else:\n",
    "        minn = a\n",
    "        maxn = b\n",
    "    \n",
    "    I = minn\n",
    "    while I >= 1:\n",
    "        if minn%I == 0 and maxn%I == 0:\n",
    "            return I\n",
    "        else:\n",
    "            I = I - 1\n",
    "print(gcdIter(8,4))"
   ]
  },
  {
   "cell_type": "code",
   "execution_count": null,
   "metadata": {
    "collapsed": true
   },
   "outputs": [],
   "source": [
    "# 答案\n",
    "ef gcdIter(a, b):\n",
    "    '''\n",
    "    a, b: positive integers\n",
    "    \n",
    "    returns: a positive integer, the greatest common divisor of a & b.\n",
    "    '''\n",
    "    testValue = min(a, b)\n",
    "\n",
    "    # Keep looping until testValue divides both a & b evenly\n",
    "    while a % testValue != 0 or b % testValue != 0:\n",
    "        testValue -= 1\n",
    "\n",
    "    return testValue"
   ]
  },
  {
   "cell_type": "markdown",
   "metadata": {},
   "source": [
    "### 递归法"
   ]
  },
  {
   "cell_type": "markdown",
   "metadata": {},
   "source": [
    "- 如果b == 0，则输出a\n",
    "- 否则，gcd(a,b) == gcd(b,a%b)"
   ]
  },
  {
   "cell_type": "code",
   "execution_count": 5,
   "metadata": {},
   "outputs": [
    {
     "name": "stdout",
     "output_type": "stream",
     "text": [
      "4\n"
     ]
    }
   ],
   "source": [
    "def gcdRecur(a,b):\n",
    "    if b == 0:\n",
    "        return a\n",
    "    else:\n",
    "        return gcdRecur(b,a%b)\n",
    "print(gcdRecur(8,4))"
   ]
  }
 ],
 "metadata": {
  "kernelspec": {
   "display_name": "Python 3",
   "language": "python",
   "name": "python3"
  },
  "language_info": {
   "codemirror_mode": {
    "name": "ipython",
    "version": 3
   },
   "file_extension": ".py",
   "mimetype": "text/x-python",
   "name": "python",
   "nbconvert_exporter": "python",
   "pygments_lexer": "ipython3",
   "version": "3.6.2"
  }
 },
 "nbformat": 4,
 "nbformat_minor": 2
}
