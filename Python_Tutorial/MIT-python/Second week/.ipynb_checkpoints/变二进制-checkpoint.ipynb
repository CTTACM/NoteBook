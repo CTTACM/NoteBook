{
 "cells": [
  {
   "cell_type": "markdown",
   "metadata": {},
   "source": [
    "## 整数变为2进制"
   ]
  },
  {
   "cell_type": "code",
   "execution_count": null,
   "metadata": {
    "collapsed": true
   },
   "outputs": [],
   "source": [
    "# 判断正负\n",
    "if num < 0:\n",
    "    isNeg = True\n",
    "    num = abs(num)\n",
    "else:\n",
    "    isNeg = False\n",
    "\n",
    "# 最后输出的是个字符串\n",
    "result = ''\n",
    "\n",
    "# 是否是0\n",
    "if num = 0:\n",
    "    result = '0'\n",
    "\n",
    "# \n",
    "while num > 0:\n",
    "    result = str(num%2) + result\n",
    "    num = num // 2\n",
    "\n",
    "# 添加负号，得到结果\n",
    "if isNeg:\n",
    "    result = '-' + result"
   ]
  },
  {
   "cell_type": "markdown",
   "metadata": {},
   "source": [
    "## 大于0小于1的小数变二进制表示（float数字如何在计算机中存储）\n",
    "   $3/8 = 0.375 = 3*10^{-1}+7*10^{-2}+5*10^{-3}$\n",
    "\n",
    "假如我们要把小数x变为二进制，那么由上面的分数和小数的等价关系，分子/分母 = 小数，其中分子 = 分母$*$小数。而分母是一个整数，可以表示为二进制的形式，则又可以表示为 分子 = 分母（2的n次方的形式） * 小数。而2的n次方就表示2像左或右移动n位，则小数就等于分子化为二进制后向左或向右移动n位。\n",
    "即，找到一个2的n次方的整数，把分子变为二进制，然后移动n次。"
   ]
  },
  {
   "cell_type": "code",
   "execution_count": null,
   "metadata": {
    "collapsed": true
   },
   "outputs": [],
   "source": [
    "x = float(input(\"float\"))\n",
    "\n",
    "# 找到一个合适的p值\n",
    "p = 0\n",
    "while ((2**p)*x)%1 != 0:\n",
    "    # 前者是小数，后者是取整\n",
    "    print(\"remainder = \" + str((2**p)*x - int((2**p)*x)))\n",
    "    p += 1\n",
    "    \n",
    "num = int(2**p)\n",
    "\n",
    "# 最后输出的是个字符串\n",
    "result = ''\n",
    "\n",
    "# 是否是0\n",
    "if num = 0:\n",
    "    result = '0'\n",
    "\n",
    "# \n",
    "while num > 0:\n",
    "    result = str(num%2) + result\n",
    "    num = num // 2\n",
    "\n",
    "# 添加负号，得到结果\n",
    "if isNeg:\n",
    "    result = '-' + result"
   ]
  },
  {
   "cell_type": "markdown",
   "metadata": {},
   "source": [
    "### 从上面可以知道float类型的数字是如何在计算机中存贮的，因此我们知道在进行小数的比较的时候不能单纯的用== ，一般情况下是要用（x-y）< e"
   ]
  }
 ],
 "metadata": {
  "kernelspec": {
   "display_name": "Python 3",
   "language": "python",
   "name": "python3"
  },
  "language_info": {
   "codemirror_mode": {
    "name": "ipython",
    "version": 3
   },
   "file_extension": ".py",
   "mimetype": "text/x-python",
   "name": "python",
   "nbconvert_exporter": "python",
   "pygments_lexer": "ipython3",
   "version": "3.6.2"
  }
 },
 "nbformat": 4,
 "nbformat_minor": 2
}
