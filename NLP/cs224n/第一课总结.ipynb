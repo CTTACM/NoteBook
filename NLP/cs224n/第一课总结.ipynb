{
 "cells": [
  {
   "cell_type": "markdown",
   "metadata": {},
   "source": [
    "# 第一课总结"
   ]
  },
  {
   "cell_type": "markdown",
   "metadata": {},
   "source": [
    "关键词：\n",
    "\n",
    "**Natural Language Processing； Word Vectors； Singular Value Decomposition； Skip-gram； Continuous Bag of Words\n",
    "(CBOW)； Negative Sampling； Hierarchical Softmax； Word2Vec.**\n",
    "\n",
    "解释：\n",
    "\n",
    "- **Negative Sampling（负采样）** ：自然语言处理领域中，判断两个单词是不是一对上下文词（context）与目标词（target），如果是一对，则是正样本，如果不是一对，则是负样本。采样得到一个上下文词和一个目标词，生成一个正样本（positive example）；生成一个负样本（negative example），则是用与正样本相同的上下文词，再在字典中随机选择一个单词，这就是负采样（negative sampling）。\n",
    "\n",
    "- **Singular Value Decomposition（SVD）**：（知识点补充）\n",
    "\n",
    "- **Hierarchical Softmax**：\n",
    "\n",
    "- **Word2Vec**：等做"
   ]
  },
  {
   "cell_type": "markdown",
   "metadata": {},
   "source": [
    "关键问题：\n"
   ]
  },
  {
   "cell_type": "markdown",
   "metadata": {},
   "source": [
    "知识点补充：\n",
    "- **Singular Value Decomposition（SVD）**：https://blog.csdn.net/u013108511/article/details/79016939"
   ]
  }
 ],
 "metadata": {
  "kernelspec": {
   "display_name": "Python 3",
   "language": "python",
   "name": "python3"
  },
  "language_info": {
   "codemirror_mode": {
    "name": "ipython",
    "version": 3
   },
   "file_extension": ".py",
   "mimetype": "text/x-python",
   "name": "python",
   "nbconvert_exporter": "python",
   "pygments_lexer": "ipython3",
   "version": "3.6.2"
  }
 },
 "nbformat": 4,
 "nbformat_minor": 2
}
