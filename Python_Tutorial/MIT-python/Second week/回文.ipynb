{
 "cells": [
  {
   "cell_type": "markdown",
   "metadata": {},
   "source": [
    "# 回文\n",
    "用递归的思想做回文很简单"
   ]
  },
  {
   "cell_type": "code",
   "execution_count": 9,
   "metadata": {},
   "outputs": [
    {
     "name": "stdout",
     "output_type": "stream",
     "text": [
      "False\n",
      "True\n"
     ]
    }
   ],
   "source": [
    "def isPalindrome(s):\n",
    "    \n",
    "    # 如果输入有符号，去掉符号\n",
    "    def toChars(s):\n",
    "        s = s.lower()\n",
    "        ans = ''\n",
    "        for c in s:\n",
    "            if c in \"abcdefghijklmnopqrstuvwxyz\":\n",
    "                ans = ans + c\n",
    "        return ans\n",
    "    \n",
    "    # 判断\n",
    "    def ispal(s):\n",
    "#         print(s)\n",
    "        if len(s) <= 1:\n",
    "            return True\n",
    "        else:\n",
    "            return s[0] == s[-1] and ispal(s[1:-1])\n",
    "    return ispal(toChars(s))\n",
    "\n",
    "print(isPalindrome(\"hfoiajs\"))\n",
    "print(isPalindrome(\"tevet\"))"
   ]
  }
 ],
 "metadata": {
  "kernelspec": {
   "display_name": "Python 3",
   "language": "python",
   "name": "python3"
  },
  "language_info": {
   "codemirror_mode": {
    "name": "ipython",
    "version": 3
   },
   "file_extension": ".py",
   "mimetype": "text/x-python",
   "name": "python",
   "nbconvert_exporter": "python",
   "pygments_lexer": "ipython3",
   "version": "3.6.2"
  }
 },
 "nbformat": 4,
 "nbformat_minor": 2
}
