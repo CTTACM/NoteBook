{
 "cells": [
  {
   "cell_type": "markdown",
   "metadata": {},
   "source": [
    "### 输入\n",
    "x = int(input(\"Enter a integer\"))"
   ]
  },
  {
   "cell_type": "markdown",
   "metadata": {},
   "source": [
    "### 疑问？\n",
    "理解boolean操作的优先级是很重要的，如下：\n",
    "\n",
    "括号 > not > and > or\n"
   ]
  },
  {
   "cell_type": "markdown",
   "metadata": {},
   "source": [
    "#### 解析：\n",
    "先算`and`左右，返回`True`，在接着算`or`左右，左边是`False`，右边是`True`,所以最后输出`True`"
   ]
  },
  {
   "cell_type": "code",
   "execution_count": 4,
   "metadata": {},
   "outputs": [
    {
     "data": {
      "text/plain": [
       "True"
      ]
     },
     "execution_count": 4,
     "metadata": {},
     "output_type": "execute_result"
    }
   ],
   "source": [
    "4 > 5 or 3 < 4 and 9 > 8"
   ]
  },
  {
   "cell_type": "markdown",
   "metadata": {},
   "source": [
    "### round()\n",
    "解释：四舍五入"
   ]
  },
  {
   "cell_type": "code",
   "execution_count": 10,
   "metadata": {},
   "outputs": [
    {
     "data": {
      "text/plain": [
       "3"
      ]
     },
     "execution_count": 10,
     "metadata": {},
     "output_type": "execute_result"
    }
   ],
   "source": [
    "round(2.6)"
   ]
  },
  {
   "cell_type": "markdown",
   "metadata": {},
   "source": [
    "### int 与 float比较大小"
   ]
  },
  {
   "cell_type": "code",
   "execution_count": 9,
   "metadata": {},
   "outputs": [
    {
     "data": {
      "text/plain": [
       "True"
      ]
     },
     "execution_count": 9,
     "metadata": {},
     "output_type": "execute_result"
    }
   ],
   "source": [
    "5*2 == 5.0 * 2.0"
   ]
  },
  {
   "cell_type": "markdown",
   "metadata": {},
   "source": [
    "### 面试题-传神语联"
   ]
  },
  {
   "cell_type": "code",
   "execution_count": 11,
   "metadata": {},
   "outputs": [
    {
     "name": "stdout",
     "output_type": "stream",
     "text": [
      "6\n",
      ".\n",
      "0\n",
      "0\n",
      "x\n",
      "done\n"
     ]
    }
   ],
   "source": [
    "myStr = '6.00x'\n",
    "\n",
    "for char in myStr:\n",
    "    print(char)\n",
    "\n",
    "print('done')"
   ]
  },
  {
   "cell_type": "code",
   "execution_count": 20,
   "metadata": {},
   "outputs": [
    {
     "name": "stdout",
     "output_type": "stream",
     "text": [
      "2\n"
     ]
    }
   ],
   "source": [
    "# 字符串匹配\n",
    "count = 0\n",
    "a = 'bob'\n",
    "b = 'azcbobobegghakl'\n",
    "lena = len(a)\n",
    "lenb = len(b)\n",
    "# print(lena)\n",
    "for i in range(lenb):\n",
    "    new = b[i:i+lena]\n",
    "    if a in new:\n",
    "        count += 1\n",
    "print(count)"
   ]
  },
  {
   "cell_type": "code",
   "execution_count": 28,
   "metadata": {},
   "outputs": [
    {
     "name": "stdout",
     "output_type": "stream",
     "text": [
      "abc\n"
     ]
    }
   ],
   "source": [
    "# 最长串\n",
    "# 如果整个串没有长于1的子串怎么办？\n",
    "# 下面代码是假设有大于1的子串的情况的。\n",
    "s = \"abcbcd\" # 原串\n",
    "longest_word = \"\" # 目前的最长串\n",
    "max_word = 0  # 目前最长串的长度\n",
    "\n",
    "for k in range(len(s)-2):\n",
    "    new_word = s[k]\n",
    "    # 形成新子串\n",
    "    i = k\n",
    "    while s[i] <= s[i+1]:\n",
    "        new_word = new_word + s[i+1]\n",
    "        i = i + 1\n",
    "        if i >= len(s)-2:\n",
    "            break\n",
    "#         print(new_word)\n",
    "    if max_word < len(new_word):\n",
    "        max_word = len(new_word)\n",
    "        longest_word = new_word\n",
    "print(longest_word)"
   ]
  }
 ],
 "metadata": {
  "kernelspec": {
   "display_name": "Python 3",
   "language": "python",
   "name": "python3"
  },
  "language_info": {
   "codemirror_mode": {
    "name": "ipython",
    "version": 3
   },
   "file_extension": ".py",
   "mimetype": "text/x-python",
   "name": "python",
   "nbconvert_exporter": "python",
   "pygments_lexer": "ipython3",
   "version": "3.6.2"
  }
 },
 "nbformat": 4,
 "nbformat_minor": 2
}
