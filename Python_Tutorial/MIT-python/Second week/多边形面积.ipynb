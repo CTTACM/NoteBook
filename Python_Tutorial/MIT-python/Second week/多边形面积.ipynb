{
 "cells": [
  {
   "cell_type": "markdown",
   "metadata": {},
   "source": [
    "# 多边形面积"
   ]
  },
  {
   "cell_type": "markdown",
   "metadata": {},
   "source": [
    "正多边形有n个边，每个边的长度为s。\n",
    "\n",
    "正多边形的面积为：$\\frac {0.25*n*s^2}{tan(\\pi/n)}$\n",
    "\n",
    "正多边形的周长为：$n*s$\n",
    "\n",
    "求面积和周长平方的和。"
   ]
  },
  {
   "cell_type": "code",
   "execution_count": 7,
   "metadata": {},
   "outputs": [
    {
     "name": "stdout",
     "output_type": "stream",
     "text": [
      "153.0\n"
     ]
    }
   ],
   "source": [
    "import math\n",
    "def Grader(n,s):\n",
    "    area = 0.25*n*s**2 / math.tan(math.pi/n)\n",
    "    return area+ (n*s)**2 \n",
    "print(Grader(4,3))"
   ]
  },
  {
   "cell_type": "code",
   "execution_count": null,
   "metadata": {
    "collapsed": true
   },
   "outputs": [],
   "source": []
  }
 ],
 "metadata": {
  "kernelspec": {
   "display_name": "Python 3",
   "language": "python",
   "name": "python3"
  },
  "language_info": {
   "codemirror_mode": {
    "name": "ipython",
    "version": 3
   },
   "file_extension": ".py",
   "mimetype": "text/x-python",
   "name": "python",
   "nbconvert_exporter": "python",
   "pygments_lexer": "ipython3",
   "version": "3.6.2"
  }
 },
 "nbformat": 4,
 "nbformat_minor": 2
}
