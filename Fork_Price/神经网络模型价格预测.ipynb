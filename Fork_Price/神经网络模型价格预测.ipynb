{
 "cells": [
  {
   "cell_type": "markdown",
   "metadata": {
    "collapsed": true
   },
   "source": [
    "# 使用神经网络模型预测生猪价格\n",
    "### 模型\n",
    "使用一个两层每层三个节点的神经网络\n",
    "### 数据\n",
    "数据是从【2014/6/24】~【2018/10/16】每周一次的价格，总共227个。\n",
    "### 思路\n",
    "**目标**：要预测两个月内的价格，即一共7个数据\n",
    "**训练集**：【0~199】200个\n",
    "**测试集**  【201~220】20个\n",
    "第220个输入值应该预测228值\n",
    "- 训练集输入值：【0~199】 200个\n",
    "- 训练集输出值：【8~207】 200个\n",
    "\n",
    "- 验证集的输入值：【200~219】 20个\n",
    "- 验证集的输出值：【208~227】 20个\n",
    "\n",
    "- 预测集的输入值：【220~227】 7个"
   ]
  },
  {
   "cell_type": "code",
   "execution_count": 103,
   "metadata": {},
   "outputs": [
    {
     "name": "stdout",
     "output_type": "stream",
     "text": [
      "224\n",
      "[[ 12.61  12.62  12.84  13.23  13.54  13.77  13.92  14.28]\n",
      " [ 14.62  14.94  14.98  14.95  14.92  14.77  14.73  14.57]\n",
      " [ 14.34  14.23  14.23  14.07  14.12  14.01  13.84  13.82]\n",
      " [ 13.73  13.66  13.53  13.53  13.75  13.71  13.44  13.33]\n",
      " [ 12.82  12.66  12.56  12.28  12.14  12.    12.14  12.43]\n",
      " [ 12.56  12.63  12.97  13.16  13.32  13.52  13.88  14.04]\n",
      " [ 14.22  14.52  14.64  14.84  15.1   15.79  16.37  16.71]\n",
      " [ 17.19  17.8   18.15  17.99  18.02  18.02  18.07  17.89]\n",
      " [ 17.6   17.49  17.38  17.36  17.04  16.75  16.45  16.26]\n",
      " [ 16.28  16.24  16.38  16.44  16.54  16.54  16.71  16.99]\n",
      " [ 17.58  17.7   17.89  18.12  18.1   17.92  17.99  18.14]\n",
      " [ 18.51  19.03  19.31  19.57  19.62  19.54  19.84  20.  ]\n",
      " [ 20.15  20.24  20.47  20.6   20.58  20.31  19.7   19.17]\n",
      " [ 18.53  18.16  18.29  18.18  18.07  18.31  18.48  18.41]\n",
      " [ 18.31  18.31  18.38  18.25  17.8   17.66  17.24  16.52]\n",
      " [ 16.49  16.58  16.74  16.76  16.73  16.75  16.89  16.97]\n",
      " [ 17.12  17.33  17.73  17.97  17.89  17.8   17.53  17.3 ]\n",
      " [ 16.87  16.77  16.53  16.17  16.23  16.13  16.01  15.77]\n",
      " [ 15.42  14.79  14.52  14.3   13.85  13.33  12.82  12.51]\n",
      " [ 12.86  12.88  13.05  13.28  13.37  13.33  13.25  13.27]\n",
      " [ 13.81  13.89  14.18  14.24  14.49  14.54  14.52  14.4 ]\n",
      " [ 14.25  14.22  14.18  14.21  14.25  14.22  14.26  14.37]\n",
      " [ 14.56  14.81  15.01  15.14  15.06  15.28  15.09  15.05]\n",
      " [ 14.33  13.81  12.72  11.74  11.16  10.64  10.11  10.3 ]\n",
      " [ 10.03   9.98   9.93   9.85   9.66   9.57   9.65  10.27]\n",
      " [ 10.51  10.66  10.77  10.78  10.88  11.47  11.67  12.2 ]\n",
      " [ 12.5   13.25  13.72  13.69  13.71  13.76  14.29  14.21]\n",
      " [ 14.4   14.3   14.33  14.34  14.28  13.97  13.98  13.22]]\n"
     ]
    }
   ],
   "source": [
    "import pandas as pd\n",
    "import keras\n",
    "import numpy as np\n",
    "\n",
    "path = 'D:/homework/生猪价格预测/self/self-data/total_data.xlsx'\n",
    "origin_data = pd.read_excel(path, index_col=0)\n",
    "\n",
    "# 把标量转化为一维数组向量\n",
    "origin_data = origin_data['猪肉价格'].values  # pandas 类型的数据转化为numpy类型\n",
    "data = origin_data[:224]\n",
    "print(len(data))\n",
    "data = data.reshape(28,8)\n",
    "print(data)"
   ]
  },
  {
   "cell_type": "markdown",
   "metadata": {},
   "source": [
    "### 如下面这样做出现了问题，train_y明明没有标准化，却发现前27个数据都被标准化了，只剩下一个没有被标准化。\n",
    "- 解释：因为train_x和train_y都是指向data的指针，所以，当train_x被标准化的时候，实际上是data的前27个数据做的标准化，然后又被train_y引用。所以才出现了上面的情况。\n",
    "\n",
    "```python\n",
    "#### 一次输入向量的长度为8,使用k折检验，所以不必用单独的验证集\n",
    "train_x =  data[0:27]  #\n",
    "train_y =  data[1:28]\n",
    "\n",
    "print(train_x)\n",
    "print(\"****\")\n",
    "print(train_y)\n",
    "print(\"****\")\n",
    "mean = train_x.mean(axis=0)\n",
    "train_x -= mean\n",
    "std = train_x.std(axis=0)\n",
    "train_x /= std\n",
    "print(train_x)\n",
    "print(\"********\")\n",
    "print(train_y)\n",
    "print(\"********\")\n",
    "print(train_y)\n",
    "```\n",
    "\n",
    "- 解决：使用.copy（）函数"
   ]
  },
  {
   "cell_type": "code",
   "execution_count": 104,
   "metadata": {
    "collapsed": true
   },
   "outputs": [],
   "source": [
    "#### 一次输入向量的长度为8,使用k折检验，所以不必用单独的验证集\n",
    "train_x =  data[0:27]  #\n",
    "train_y =  data[1:28].copy()\n",
    "\n",
    "# print(train_x)\n",
    "# print(train_y)\n",
    "\n",
    "mean = train_x.mean(axis=0)\n",
    "train_x -= mean\n",
    "std = train_x.std(axis=0)\n",
    "train_x /= std\n",
    "\n",
    "# print(train_x)\n",
    "# print(train_y)"
   ]
  },
  {
   "cell_type": "code",
   "execution_count": 105,
   "metadata": {},
   "outputs": [
    {
     "name": "stdout",
     "output_type": "stream",
     "text": [
      "processing flod #  0\n",
      "processing flod #  1\n",
      "processing flod #  2\n",
      "processing flod #  3\n"
     ]
    }
   ],
   "source": [
    "from keras import models\n",
    "from keras import layers\n",
    "\n",
    "# 模型准备\n",
    "def build_model():\n",
    "    model = models.Sequential()\n",
    "    model.add(layers.Dense(8, activation = 'sigmoid', input_shape = (8,)))  # 一次输入长度为8的向量\n",
    "    model.add(layers.Dropout(0.5))\n",
    "    model.add(layers.Dense(5, activation = 'sigmoid'))\n",
    "    model.add(layers.Dropout(0.5))\n",
    "    model.add(layers.Dense(5, activation = 'relu'))\n",
    "    model.add(layers.Dense(8))    # 输出长度为8的向量\n",
    "    model.compile(optimizer='rmsprop', loss='mse', metrics=['mae'])\n",
    "    return model\n",
    "\n",
    "# k折检验\n",
    "k = 4\n",
    "num_val_samples = len(train_y) // k  # 220/4 = 55\n",
    "num_epochs = 1000 # 循环200遍数据\n",
    "mae_histories = []  # 装载训练集mae的列表\n",
    "vmae_histories = []  # 装载验证集mae的列表\n",
    "for i in range(k):\n",
    "    print('processing flod # ',i)\n",
    "    \n",
    "    # 划分数据集\n",
    "    val_data = train_x[i*num_val_samples:(i+1)*num_val_samples]\n",
    "    val_label = train_y[i*num_val_samples:(i+1)*num_val_samples]\n",
    "    \n",
    "    partial_train_data = np.concatenate([train_x[:i*num_val_samples],train_x[(i+1)*num_val_samples:]],axis = 0)\n",
    "    partial_train_label = np.concatenate([train_y[:i*num_val_samples],train_y[(i+1)*num_val_samples:]],axis = 0)\n",
    "    \n",
    "    model = build_model()\n",
    "    history = model.fit(partial_train_data, partial_train_label, epochs = num_epochs, batch_size = 5,  # batch_size 的意思是每一次输入几个样例\n",
    "                        validation_data=(val_data, val_label), verbose = 0)\n",
    "    \n",
    "    mae_history = history.history['mean_absolute_error']\n",
    "    vmae_history = history.history['val_mean_absolute_error']\n",
    "    mae_histories.append(mae_history)\n",
    "    vmae_histories.append(vmae_history)\n"
   ]
  },
  {
   "cell_type": "code",
   "execution_count": 106,
   "metadata": {},
   "outputs": [
    {
     "data": {
      "image/png": "[encoded data removed]",
      "text/plain": [
       "<matplotlib.figure.Figure at 0x1c03af98>"
      ]
     },
     "metadata": {},
     "output_type": "display_data"
    }
   ],
   "source": [
    "# list对象是没办法直接作图的，要转化为数组才行\n",
    "mae_history = [np.mean([x[i] for x in mae_histories]) for i in range(num_epochs)]\n",
    "vmae_history = [np.mean([x[i] for x in vmae_histories]) for i in range(num_epochs)]\n",
    "\n",
    "\n",
    "import matplotlib.pyplot as plt\n",
    "\n",
    "plt.plot(range(1, len(mae_history) + 1), mae_history,'b' ,label='mae_history')\n",
    "plt.plot(range(1, len(vmae_history) + 1), vmae_history,'r', label='vmae_history')\n",
    "plt.legend()\n",
    "plt.xlabel('Epochs')\n",
    "plt.ylabel('MAE')\n",
    "# plt.savefig('MAE') \n",
    "plt.show()"
   ]
  },
  {
   "cell_type": "markdown",
   "metadata": {},
   "source": [
    "### 预测测试"
   ]
  },
  {
   "cell_type": "code",
   "execution_count": 109,
   "metadata": {},
   "outputs": [
    {
     "name": "stdout",
     "output_type": "stream",
     "text": [
      "[ 14.33  14.34  14.28  13.97  13.98  13.22  12.73  12.69]\n",
      "[[ 14.33  14.34  14.28  13.97  13.98  13.22  12.73  12.69]]\n",
      "[[ 15.62447357  15.70388508  15.84241676  15.82102394  15.79932594\n",
      "   15.83660507  15.59380531  15.52680969]]\n"
     ]
    }
   ],
   "source": [
    "# 测试输入数据准备\n",
    "test_x = origin_data[218:227]\n",
    "print(test_x)\n",
    "test_x = test_x.reshape(1,8)\n",
    "print(test_x)\n",
    "# model.predict()\n",
    "results = model.predict(test_x,batch_size=1, verbose=0)\n",
    "print(results)"
   ]
  },
  {
   "cell_type": "markdown",
   "metadata": {},
   "source": [
    "### 预测情况mae"
   ]
  },
  {
   "cell_type": "code",
   "execution_count": null,
   "metadata": {
    "collapsed": true
   },
   "outputs": [],
   "source": [
    "import math\n",
    "import numpy as np\n",
    "\n",
    "# 因为没有相关数据真实label，所以无法知道\n",
    "label = [14.4,14.3,14.33,14.34,14.28,13.97,13.98,13.22]\n",
    "\n",
    "bp_data =  results\n",
    "label =    np.asarray(label)\n",
    "\n",
    "n = 8\n",
    "def get_rmse(data,label):\n",
    "    rmse = np.sqrt(sum((data-label)**2)/3)\n",
    "    return rmse\n",
    "\n",
    "def get_mape(data,label):\n",
    "    mape = sum(abs(data-label)*100/label)/3\n",
    "    return mape\n",
    "\n",
    "def get_tic(data, label):\n",
    "    s = np.sqrt(sum((data-label)**2)/3)\n",
    "    l = np.sqrt(sum((np.array(data)**2)/3))\n",
    "    r = np.sqrt(sum((np.array(label)**2)/3))\n",
    "    return s/(l+r)\n",
    "\n",
    "bp_rmse = get_rmse(bp_data,label)\n",
    "bp_mape = get_mape(bp_data,label)\n",
    "bp_tic = get_tic(bp_data,label)\n",
    "\n",
    "print(bp_rmse,bp_mape,bp_tic)"
   ]
  },
  {
   "cell_type": "markdown",
   "metadata": {},
   "source": [
    "### 小结"
   ]
  },
  {
   "cell_type": "markdown",
   "metadata": {},
   "source": [
    "- **数据的加载**\n",
    "\n",
    "    pandas加载数据.values变量为数组\n",
    "    \n",
    "- **改变数据形状**\n",
    "\n",
    "    numpy的reshape()函数改变了数据的基础形状\n",
    "    \n",
    "- **数据改变**\n",
    "\n",
    "    当两个新建的变量指向同一个变量时，改变其中一个，另一个也会受到“牵连”发生改变，应用.copy()函数从元数据处拷贝一份"
   ]
  }
 ],
 "metadata": {
  "kernelspec": {
   "display_name": "Python 3",
   "language": "python",
   "name": "python3"
  },
  "language_info": {
   "codemirror_mode": {
    "name": "ipython",
    "version": 3
   },
   "file_extension": ".py",
   "mimetype": "text/x-python",
   "name": "python",
   "nbconvert_exporter": "python",
   "pygments_lexer": "ipython3",
   "version": "3.6.2"
  }
 },
 "nbformat": 4,
 "nbformat_minor": 2
}
