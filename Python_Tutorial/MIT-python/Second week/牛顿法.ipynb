{
 "cells": [
  {
   "cell_type": "markdown",
   "metadata": {},
   "source": [
    "# 牛顿法\n",
    "- 牛顿法是一种用于发现多项式的跟的近似算法\n",
    "\n",
    "    $p(x) = a_nx^n + a_{n-1}x^{n-1} + ... + a_1x + a_0$\n",
    "    \n",
    "   要发现$r$使得p(r) = 0\n",
    "   \n",
    "- 例如要寻找24的跟，$p(x) = x^2 - 24$ \n",
    "\n",
    "- 牛顿法：如果g是是根值的近似值，那么\n",
    "\n",
    "    $g - p(g)/p'(g)$\n",
    "\n",
    "    是更加近似的值，$p'$是一阶导数"
   ]
  },
  {
   "cell_type": "code",
   "execution_count": null,
   "metadata": {
    "collapsed": true
   },
   "outputs": [],
   "source": [
    "epsilon = 0.01\n",
    "y = 24.0\n",
    "guess = y/2.0\n",
    "numguess = 0\n",
    "while abs(guess*guess - y) >= epsilon:\n",
    "    numguess += 1\n",
    "    guess = guess - (((guess**2) - y ) / (2 * guess))\n",
    "print(\"numguess = \" + str(numguess))\n",
    "print('Square root of ' + str(y) + 'is about ' + str(guess))"
   ]
  }
 ],
 "metadata": {
  "kernelspec": {
   "display_name": "Python 3",
   "language": "python",
   "name": "python3"
  },
  "language_info": {
   "codemirror_mode": {
    "name": "ipython",
    "version": 3
   },
   "file_extension": ".py",
   "mimetype": "text/x-python",
   "name": "python",
   "nbconvert_exporter": "python",
   "pygments_lexer": "ipython3",
   "version": "3.6.2"
  }
 },
 "nbformat": 4,
 "nbformat_minor": 2
}
