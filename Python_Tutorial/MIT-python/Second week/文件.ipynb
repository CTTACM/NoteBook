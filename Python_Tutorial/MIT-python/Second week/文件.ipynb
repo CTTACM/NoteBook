{
 "cells": [
  {
   "cell_type": "markdown",
   "metadata": {},
   "source": [
    "# file handle（文件句柄）"
   ]
  },
  {
   "cell_type": "code",
   "execution_count": null,
   "metadata": {
    "collapsed": true
   },
   "outputs": [],
   "source": [
    "有如下两个文件，运行inventory.py文件，会发生什么？"
   ]
  },
  {
   "cell_type": "markdown",
   "metadata": {},
   "source": [
    "### E1"
   ]
  },
  {
   "cell_type": "code",
   "execution_count": null,
   "metadata": {
    "collapsed": true
   },
   "outputs": [],
   "source": [
    "# FILE: batteries.py\n",
    "aa = \"AA\"\n",
    "aaa = \"AAA\"\n",
    "c = \"C\"\n",
    "d = \"D\" \n",
    "\n",
    "# FILE: inventory.py\n",
    "import batteries\n",
    "aa = \"aa\"\n",
    "tripleA = \"aaa\"\n",
    "print(batteries.aa)"
   ]
  },
  {
   "cell_type": "markdown",
   "metadata": {},
   "source": [
    "#### 答案\n",
    "prints aa\n",
    "\n",
    "prints AA                              正 确\n",
    "\n",
    "There is an error."
   ]
  },
  {
   "cell_type": "markdown",
   "metadata": {},
   "source": [
    "### E2"
   ]
  },
  {
   "cell_type": "code",
   "execution_count": null,
   "metadata": {
    "collapsed": true
   },
   "outputs": [],
   "source": [
    "# FILE: batteries.py\n",
    "aa = \"AA\"\n",
    "aaa = \"AAA\"\n",
    "c = \"C\"\n",
    "d = \"D\"\n",
    "\n",
    "# FILE: inventory.py\n",
    "from batteries import *\n",
    "aa = \"aa\"\n",
    "print(aa, aaa, c, d)"
   ]
  },
  {
   "cell_type": "markdown",
   "metadata": {},
   "source": [
    "prints AA AAA C D\n",
    "\n",
    "\n",
    "prints aa aaa c d\n",
    "\n",
    "prints aa AAA C D      正确\n",
    "\n",
    "There is an error."
   ]
  },
  {
   "cell_type": "code",
   "execution_count": null,
   "metadata": {
    "collapsed": true
   },
   "outputs": [],
   "source": [
    "两者的不同之处很明显，一个是`import batteries`一个是`from batteries import *`，后者连那个文件中的变量名都被引进了。"
   ]
  },
  {
   "cell_type": "code",
   "execution_count": null,
   "metadata": {
    "collapsed": true
   },
   "outputs": [],
   "source": [
    "namehandle = open('file_name','w')\n",
    "for i in range(2):\n",
    "    name = input('enter name')\n",
    "    namehandle.write(name + '\\')\n",
    "namehandle.close()"
   ]
  }
 ],
 "metadata": {
  "kernelspec": {
   "display_name": "Python 3",
   "language": "python",
   "name": "python3"
  },
  "language_info": {
   "codemirror_mode": {
    "name": "ipython",
    "version": 3
   },
   "file_extension": ".py",
   "mimetype": "text/x-python",
   "name": "python",
   "nbconvert_exporter": "python",
   "pygments_lexer": "ipython3",
   "version": "3.6.2"
  }
 },
 "nbformat": 4,
 "nbformat_minor": 2
}
