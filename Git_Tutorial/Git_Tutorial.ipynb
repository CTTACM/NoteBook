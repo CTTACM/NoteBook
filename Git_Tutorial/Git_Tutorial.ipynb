{
 "cells": [
  {
   "cell_type": "markdown",
   "metadata": {},
   "source": [
    "# Git Tutorial\n",
    "教程：[廖雪峰](https://www.liaoxuefeng.com/wiki/0013739516305929606dd18361248578c67b8067c8c017b000)"
   ]
  },
  {
   "cell_type": "markdown",
   "metadata": {},
   "source": [
    "### Git bash 常用命令"
   ]
  },
  {
   "cell_type": "markdown",
   "metadata": {},
   "source": [
    "|命令|解释|\n",
    "-|:-|:-\n",
    "|cd|切换目录|\n",
    "|mkdir|创建文件夹|\n",
    "|rm |删除命令|\n",
    "|pwd|查看当前所在目录|"
   ]
  },
  {
   "cell_type": "markdown",
   "metadata": {},
   "source": [
    "### Git常用命令\n",
    "|命令|解释|\n",
    "-|:-|:-\n",
    "|git init|把一个目录初始化为仓库|\n",
    "|git add 文件+后缀|把文件由工作区提交到暂存区 |\n",
    "|git commit -m \"注释\"|把暂存区的文件全部提交到本地仓库|\n",
    "|git status| 查看文件状态|\n",
    "|git diff 文件+后缀|查看文件修改（对比的是工作区文件与暂存区文件）|\n",
    "|git log|查看文件修改记录（线性向前的）|\n",
    "|git log --pretty=oneline|上面那个命令的简单查看方式|\n",
    "|git reset --hard HEAD^|回退到上一个版本|\n",
    "|git reset --hard 版本号|根据版本号向前面提交的版本回退|\n",
    "|git reflog|查看有提交的命令|\n",
    "|git checkout -- 文件+后缀|用版本库里的版本替换工作区的版本(工作区错误修改或误删)|\n",
    "|git reset HEAD 文件+后缀|把提交到暂存区的已修改文件退回到工作区，然后在接着执行上一个命令|\n",
    "|git rm 文件+后缀|删除本地仓库中的文件，在使用git commit -m \"xxx\"，把这个命令提交上去|\n",
    "|git push -u origin master|第一次把本地库的所有内容推送到远程库上|\n",
    "|git push origin master|推送本地最新修改到远程库|\n"
   ]
  },
  {
   "cell_type": "markdown",
   "metadata": {},
   "source": [
    "### Git的几种状态\n",
    "|名称|状态|\n",
    "-|:-|:-\n",
    "|Untracked files|从未提交过的文件|\n",
    "|Changes not staged for commit|修改过后未提交的文件|\n",
    "|nothing to commit|都已经提交到本地仓库了|"
   ]
  },
  {
   "cell_type": "markdown",
   "metadata": {},
   "source": [
    "### Git的分支管理\n",
    "\n",
    "|用法|解释|\n",
    "-|:-|:-\n",
    "|git checkout -b 分支名|创建一个新的分支，并切换到该新分支上|\n",
    "|git branch|查看当前所有的分支，现在所在分支前面有*号|\n",
    "|git checkout master|切回主分支|\n",
    "|git merge dev|Fast forward模式：合并指定分支到当前分支（这里是合并dev到主分支）|\n",
    "|git branch -d dev|删除指定分支|\n",
    "|git log --graph|查看分支合并图|\n",
    "|git stash|隐藏当前分支|\n",
    "|git stash list|查看分支列表|\n",
    "|git stash pop|恢复分支的同时把当前分支stash内容也删了|\n",
    "|git branch -D 分支名|当前分支没合并但是不要了，强行删除|\n",
    "|git remote -v|查看远程仓库的详细信息|\n",
    "|git push origin 分支名|把本地分支往远程推送|\n",
    "|git pull|抓取远程分支|"
   ]
  }
 ],
 "metadata": {
  "kernelspec": {
   "display_name": "Python 3",
   "language": "python",
   "name": "python3"
  },
  "language_info": {
   "codemirror_mode": {
    "name": "ipython",
    "version": 3
   },
   "file_extension": ".py",
   "mimetype": "text/x-python",
   "name": "python",
   "nbconvert_exporter": "python",
   "pygments_lexer": "ipython3",
   "version": "3.6.2"
  }
 },
 "nbformat": 4,
 "nbformat_minor": 2
}
