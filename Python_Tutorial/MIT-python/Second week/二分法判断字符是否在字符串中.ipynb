{
 "cells": [
  {
   "cell_type": "code",
   "execution_count": 15,
   "metadata": {},
   "outputs": [
    {
     "name": "stdout",
     "output_type": "stream",
     "text": [
      "False\n"
     ]
    }
   ],
   "source": [
    "def isIn(char, aStr):\n",
    "    '''\n",
    "    char: a single character\n",
    "    aStr: an alphabetized string\n",
    "    \n",
    "    returns: True if char is in aStr; False otherwise\n",
    "    '''\n",
    "    if aStr == '' or char < aStr[0] or char > aStr[-1]:\n",
    "        return False\n",
    "    else:\n",
    "        t = len(aStr)//2 \n",
    "        if  t < 0:\n",
    "            return False\n",
    "        elif aStr[t] == char:\n",
    "            return True\n",
    "        elif char < aStr[t]: \n",
    "            return isIn(char,aStr[:t])\n",
    "        elif char > aStr[t]:\n",
    "            return isIn(char,aStr[t:])\n",
    "\n",
    "print(isIn('b',\"\"))"
   ]
  }
 ],
 "metadata": {
  "kernelspec": {
   "display_name": "Python 3",
   "language": "python",
   "name": "python3"
  },
  "language_info": {
   "codemirror_mode": {
    "name": "ipython",
    "version": 3
   },
   "file_extension": ".py",
   "mimetype": "text/x-python",
   "name": "python",
   "nbconvert_exporter": "python",
   "pygments_lexer": "ipython3",
   "version": "3.6.2"
  }
 },
 "nbformat": 4,
 "nbformat_minor": 2
}
