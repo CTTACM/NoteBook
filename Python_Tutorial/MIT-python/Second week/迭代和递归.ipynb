{
 "cells": [
  {
   "cell_type": "markdown",
   "metadata": {},
   "source": [
    "# 迭代和递归\n",
    "### 递归\n",
    "把大的任务分为可以重用的小的单元，在函数中实现自己调用自己。"
   ]
  },
  {
   "cell_type": "markdown",
   "metadata": {},
   "source": [
    "### 任务：计算a*b\n",
    "a*b就是a加自己b次"
   ]
  },
  {
   "cell_type": "markdown",
   "metadata": {},
   "source": [
    "### 迭代解法"
   ]
  },
  {
   "cell_type": "code",
   "execution_count": 1,
   "metadata": {
    "collapsed": true
   },
   "outputs": [],
   "source": [
    "def mul_iter(a,b):\n",
    "    result = 0\n",
    "    while b>0:\n",
    "        result = result + a\n",
    "        b = b - 1\n",
    "    return result"
   ]
  },
  {
   "cell_type": "markdown",
   "metadata": {},
   "source": [
    "### 递归解法\n",
    "\n",
    "- 把问题缩小为可重复解决的单元\n",
    "- 持续的解决问题直到一个能够直接解决的程度\n",
    "\n",
    "问题分解：\n",
    "\n",
    "- $a*b$等于a加上自己b次\n",
    "- 可以看做a加上自己b-1次\n",
    "- 即$a+a*（b-1）$\n",
    "- 当b = 1的时候，答案为a，这个是终止条件\n",
    "\n",
    "我觉得这里有一个（总问题）->(问题分解)->外部操作&（小总问题）（最简单的小问题解决）的过程"
   ]
  },
  {
   "cell_type": "code",
   "execution_count": 4,
   "metadata": {
    "collapsed": true
   },
   "outputs": [],
   "source": [
    "def mult(a,b):\n",
    "    if b == 1:\n",
    "        return a\n",
    "    else:\n",
    "        return a + mult(a,b-1)"
   ]
  }
 ],
 "metadata": {
  "kernelspec": {
   "display_name": "Python 3",
   "language": "python",
   "name": "python3"
  },
  "language_info": {
   "codemirror_mode": {
    "name": "ipython",
    "version": 3
   },
   "file_extension": ".py",
   "mimetype": "text/x-python",
   "name": "python",
   "nbconvert_exporter": "python",
   "pygments_lexer": "ipython3",
   "version": "3.6.2"
  }
 },
 "nbformat": 4,
 "nbformat_minor": 2
}
