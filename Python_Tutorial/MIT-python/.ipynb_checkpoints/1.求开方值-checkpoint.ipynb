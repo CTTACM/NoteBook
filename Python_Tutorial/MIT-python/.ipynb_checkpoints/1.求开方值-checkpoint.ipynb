{
 "cells": [
  {
   "cell_type": "markdown",
   "metadata": {},
   "source": [
    "# 不用现有数学函数求开方值的算法\n",
    "    假设要求值y的开方，不用数学函数，该如果写算法"
   ]
  },
  {
   "cell_type": "markdown",
   "metadata": {},
   "source": [
    "- Step1:猜测答案为x\n",
    "- Step2:计算x*x是否等于(足够接近)y，如果等于（足够接近）就结束。\n",
    "- Step3:如果不等于，就计算x和y/x两个数的平均值xx\n",
    "- Step4:用xx代替x，进行第一步的操作。"
   ]
  }
 ],
 "metadata": {
  "kernelspec": {
   "display_name": "Python 3",
   "language": "python",
   "name": "python3"
  },
  "language_info": {
   "codemirror_mode": {
    "name": "ipython",
    "version": 3
   },
   "file_extension": ".py",
   "mimetype": "text/x-python",
   "name": "python",
   "nbconvert_exporter": "python",
   "pygments_lexer": "ipython3",
   "version": "3.6.2"
  }
 },
 "nbformat": 4,
 "nbformat_minor": 2
}
